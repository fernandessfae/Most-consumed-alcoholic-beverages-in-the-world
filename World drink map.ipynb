{
 "cells": [
  {
   "cell_type": "code",
   "execution_count": null,
   "metadata": {},
   "outputs": [],
   "source": [
    "import folium\n",
    "import requests\n",
    "import pandas as pd\n",
    "import io"
   ]
  },
  {
   "cell_type": "code",
   "execution_count": null,
   "metadata": {},
   "outputs": [],
   "source": [
    "url: str = 'https://raw.githubusercontent.com/fivethirtyeight/data/master/alcohol-consumption/drinks.csv'\n",
    "url_datum: requests.models = requests.get(url)\n",
    "    \n",
    "url_geojson: str = 'https://raw.githubusercontent.com/datasets/geo-countries/master/data/countries.geojson'\n",
    "\n",
    "if url_datum.ok:\n",
    "    data: str = url_datum.content.decode('utf-8')\n",
    "    dataset: pd.DataFrame = pd.read_csv(io.StringIO(data))\n",
    "        \n",
    "   # Convert name countries dataset for name countries poligons geojson \n",
    "    dataset['country'] = dataset['country'].replace(\n",
    "        {'Russian Federation': 'Russia',\n",
    "         'Congo' : 'Republic of Congo',\n",
    "         'DR Congo' : 'Democratic Republic of the Congo',\n",
    "         'Bosnia-Herzegovina' : 'Bosnia and Herzegovina',\n",
    "         'Serbia' : 'Republic of Serbia',\n",
    "         \"Cote d'Ivoire\" : \"Ivory Coast\",\n",
    "         'Guinea-Bissau' : 'Guinea Bissau',\n",
    "         'Tanzania' : 'United Republic of Tanzania',\n",
    "         'Bahamas' : 'The Bahamas',\n",
    "         'Cabo Verde' : 'Cape Verde',\n",
    "         'Timor-Leste' : 'East Timor'\n",
    "        })"
   ]
  },
  {
   "cell_type": "code",
   "execution_count": null,
   "metadata": {},
   "outputs": [],
   "source": [
    "world = folium.Map(zoom_start = 2)\n",
    "world_beer = folium.Map(zoom_start = 2)\n",
    "world_wine = folium.Map(zoom_start = 2)\n",
    "world_spirit = folium.Map(zoom_start = 2)\n",
    "world_total_alcohol = folium.Map(zoom_start = 2)"
   ]
  },
  {
   "cell_type": "code",
   "execution_count": null,
   "metadata": {},
   "outputs": [],
   "source": [
    "# World map only beer countries\n",
    "folium.Choropleth(\n",
    " geo_data = url_geojson,\n",
    " name ='beer-servings',\n",
    " data = dataset,\n",
    " columns = ['country', 'beer_servings'],\n",
    " key_on = 'feature.properties.ADMIN',\n",
    " fill_color = 'YlOrBr',\n",
    " fill_opacity = 0.8,\n",
    " line_opacity = 0.2,\n",
    " legend_name = 'Countries that consume the most beer').add_to(world_beer)\n",
    "\n",
    "folium.LayerControl().add_to(world_beer)\n",
    "world_beer"
   ]
  },
  {
   "cell_type": "code",
   "execution_count": null,
   "metadata": {},
   "outputs": [],
   "source": [
    "# World map only wine countries\n",
    "folium.Choropleth(\n",
    " geo_data = url_geojson,\n",
    " name ='wine-servings',\n",
    " data = dataset,\n",
    " columns = ['country', 'wine_servings'],\n",
    " key_on = 'feature.properties.ADMIN',\n",
    " fill_color = 'RdPu',\n",
    " fill_opacity = 0.8,\n",
    " line_opacity = 0.2,\n",
    " legend_name = 'Countries that consume the most wine').add_to(world_wine)\n",
    "\n",
    "folium.LayerControl().add_to(world_wine)\n",
    "world_wine"
   ]
  },
  {
   "cell_type": "code",
   "execution_count": null,
   "metadata": {},
   "outputs": [],
   "source": [
    "# World map only spirit countries\n",
    "folium.Choropleth(\n",
    " geo_data = url_geojson,\n",
    " name ='spirit-servings',\n",
    " data = dataset,\n",
    " columns = ['country', 'spirit_servings'],\n",
    " key_on = 'feature.properties.ADMIN',\n",
    " fill_color = 'GnBu',\n",
    " fill_opacity = 0.8,\n",
    " line_opacity = 0.2,\n",
    " legend_name = 'Countries that consume the most spirit').add_to(world_spirit)\n",
    "\n",
    "folium.LayerControl().add_to(world_spirit)\n",
    "world_spirit"
   ]
  },
  {
   "cell_type": "code",
   "execution_count": null,
   "metadata": {},
   "outputs": [],
   "source": [
    "# World map with highest alcohol consumption\n",
    "\n",
    "folium.Choropleth(\n",
    " geo_data = url_geojson,\n",
    " name ='total-litres-of-pure-alcohol',\n",
    " data = dataset,\n",
    " columns = ['country', 'total_litres_of_pure_alcohol'],\n",
    " key_on = 'feature.properties.ADMIN',\n",
    " fill_color = 'OrRd',\n",
    " fill_opacity = 0.8,\n",
    " line_opacity = 0.2,\n",
    " legend_name = 'Countries that consume a greater amount of alcohol').add_to(world_total_alcohol)\n",
    "\n",
    "folium.LayerControl().add_to(world_total_alcohol)\n",
    "world_total_alcohol"
   ]
  },
  {
   "cell_type": "code",
   "execution_count": null,
   "metadata": {},
   "outputs": [],
   "source": [
    "# World map with all drinks\n",
    "folium.Choropleth(\n",
    " geo_data = url_geojson,\n",
    " name ='beer-servings',\n",
    " data = dataset,\n",
    " columns = ['country', 'beer_servings'],\n",
    " key_on = 'feature.properties.ADMIN',\n",
    " fill_color = 'YlOrBr',\n",
    " fill_opacity = 0.8,\n",
    " line_opacity = 0.2,\n",
    " legend_name = 'Countries that consume the most beer').add_to(world)\n",
    "\n",
    "folium.Choropleth(\n",
    " geo_data = url_geojson,\n",
    " name ='wine-servings',\n",
    " data = dataset,\n",
    " columns = ['country', 'wine_servings'],\n",
    " key_on = 'feature.properties.ADMIN',\n",
    " fill_color = 'RdPu',\n",
    " fill_opacity = 0.8,\n",
    " line_opacity = 0.2,\n",
    " legend_name = 'Countries that consume the most wine').add_to(world)\n",
    "\n",
    "folium.Choropleth(\n",
    " geo_data = url_geojson,\n",
    " name ='spirit-servings',\n",
    " data = dataset,\n",
    " columns = ['country', 'spirit_servings'],\n",
    " key_on = 'feature.properties.ADMIN',\n",
    " fill_color = 'GnBu',\n",
    " fill_opacity = 0.8,\n",
    " line_opacity = 0.2,\n",
    " legend_name = 'Countries that consume the most spirit').add_to(world)\n",
    "\n",
    "folium.Choropleth(\n",
    " geo_data = url_geojson,\n",
    " name ='total-litres-of-pure-alcohol',\n",
    " data = dataset,\n",
    " columns = ['country', 'total_litres_of_pure_alcohol'],\n",
    " key_on = 'feature.properties.ADMIN',\n",
    " fill_color = 'OrRd',\n",
    " fill_opacity = 0.8,\n",
    " line_opacity = 0.2,\n",
    " legend_name = 'Countries that consume a greater amount of alcohol').add_to(world)\n",
    "\n",
    "folium.LayerControl().add_to(world)\n",
    "\n",
    "world"
   ]
  },
  {
   "cell_type": "code",
   "execution_count": null,
   "metadata": {},
   "outputs": [],
   "source": [
    "world_beer.save('world-beer-map.html')\n",
    "world_wine.save('world-wine-map.html')\n",
    "world_spirit.save('world-spirit-map.html')\n",
    "world_total_alcohol.save('world-total-alcohol.html')\n",
    "world.save('world-drink-map.html')"
   ]
  }
 ],
 "metadata": {
  "kernelspec": {
   "display_name": "Python 3",
   "language": "python",
   "name": "python3"
  },
  "language_info": {
   "codemirror_mode": {
    "name": "ipython",
    "version": 3
   },
   "file_extension": ".py",
   "mimetype": "text/x-python",
   "name": "python",
   "nbconvert_exporter": "python",
   "pygments_lexer": "ipython3",
   "version": "3.7.9"
  }
 },
 "nbformat": 4,
 "nbformat_minor": 4
}
